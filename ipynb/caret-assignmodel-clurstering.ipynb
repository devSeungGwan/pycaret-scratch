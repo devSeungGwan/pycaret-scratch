{
 "metadata": {
  "language_info": {
   "codemirror_mode": {
    "name": "ipython",
    "version": 3
   },
   "file_extension": ".py",
   "mimetype": "text/x-python",
   "name": "python",
   "nbconvert_exporter": "python",
   "pygments_lexer": "ipython3",
   "version": "3.8.5-final"
  },
  "orig_nbformat": 2,
  "kernelspec": {
   "name": "python_defaultSpec_1600327392098",
   "display_name": "Python 3.8.5 64-bit ('caretEnv': pyenv)"
  }
 },
 "nbformat": 4,
 "nbformat_minor": 2,
 "cells": [
  {
   "cell_type": "code",
   "execution_count": 6,
   "metadata": {
    "tags": []
   },
   "outputs": [],
   "source": [
    "from pycaret.datasets import get_data\n",
    "from pycaret.clustering import setup, create_model, assign_model"
   ]
  },
  {
   "cell_type": "code",
   "execution_count": 7,
   "metadata": {
    "tags": []
   },
   "outputs": [
    {
     "output_type": "stream",
     "name": "stdout",
     "text": "Setup Succesfully Completed!\n"
    },
    {
     "output_type": "display_data",
     "data": {
      "text/plain": "<pandas.io.formats.style.Styler at 0x7f3785b724c0>",
      "text/html": "<style  type=\"text/css\" >\n</style><table id=\"T_dfd6a486_f8b6_11ea_abf2_00d8618b2698\" ><thead>    <tr>        <th class=\"blank level0\" ></th>        <th class=\"col_heading level0 col0\" >Description</th>        <th class=\"col_heading level0 col1\" >Value</th>    </tr></thead><tbody>\n                <tr>\n                        <th id=\"T_dfd6a486_f8b6_11ea_abf2_00d8618b2698level0_row0\" class=\"row_heading level0 row0\" >0</th>\n                        <td id=\"T_dfd6a486_f8b6_11ea_abf2_00d8618b2698row0_col0\" class=\"data row0 col0\" >session_id </td>\n                        <td id=\"T_dfd6a486_f8b6_11ea_abf2_00d8618b2698row0_col1\" class=\"data row0 col1\" >2114</td>\n            </tr>\n            <tr>\n                        <th id=\"T_dfd6a486_f8b6_11ea_abf2_00d8618b2698level0_row1\" class=\"row_heading level0 row1\" >1</th>\n                        <td id=\"T_dfd6a486_f8b6_11ea_abf2_00d8618b2698row1_col0\" class=\"data row1 col0\" >Original Data </td>\n                        <td id=\"T_dfd6a486_f8b6_11ea_abf2_00d8618b2698row1_col1\" class=\"data row1 col1\" >(505, 4)</td>\n            </tr>\n            <tr>\n                        <th id=\"T_dfd6a486_f8b6_11ea_abf2_00d8618b2698level0_row2\" class=\"row_heading level0 row2\" >2</th>\n                        <td id=\"T_dfd6a486_f8b6_11ea_abf2_00d8618b2698row2_col0\" class=\"data row2 col0\" >Missing Values </td>\n                        <td id=\"T_dfd6a486_f8b6_11ea_abf2_00d8618b2698row2_col1\" class=\"data row2 col1\" >False</td>\n            </tr>\n            <tr>\n                        <th id=\"T_dfd6a486_f8b6_11ea_abf2_00d8618b2698level0_row3\" class=\"row_heading level0 row3\" >3</th>\n                        <td id=\"T_dfd6a486_f8b6_11ea_abf2_00d8618b2698row3_col0\" class=\"data row3 col0\" >Numeric Features </td>\n                        <td id=\"T_dfd6a486_f8b6_11ea_abf2_00d8618b2698row3_col1\" class=\"data row3 col1\" >3</td>\n            </tr>\n            <tr>\n                        <th id=\"T_dfd6a486_f8b6_11ea_abf2_00d8618b2698level0_row4\" class=\"row_heading level0 row4\" >4</th>\n                        <td id=\"T_dfd6a486_f8b6_11ea_abf2_00d8618b2698row4_col0\" class=\"data row4 col0\" >Categorical Features </td>\n                        <td id=\"T_dfd6a486_f8b6_11ea_abf2_00d8618b2698row4_col1\" class=\"data row4 col1\" >1</td>\n            </tr>\n            <tr>\n                        <th id=\"T_dfd6a486_f8b6_11ea_abf2_00d8618b2698level0_row5\" class=\"row_heading level0 row5\" >5</th>\n                        <td id=\"T_dfd6a486_f8b6_11ea_abf2_00d8618b2698row5_col0\" class=\"data row5 col0\" >Ordinal Features </td>\n                        <td id=\"T_dfd6a486_f8b6_11ea_abf2_00d8618b2698row5_col1\" class=\"data row5 col1\" >False</td>\n            </tr>\n            <tr>\n                        <th id=\"T_dfd6a486_f8b6_11ea_abf2_00d8618b2698level0_row6\" class=\"row_heading level0 row6\" >6</th>\n                        <td id=\"T_dfd6a486_f8b6_11ea_abf2_00d8618b2698row6_col0\" class=\"data row6 col0\" >High Cardinality Features </td>\n                        <td id=\"T_dfd6a486_f8b6_11ea_abf2_00d8618b2698row6_col1\" class=\"data row6 col1\" >False</td>\n            </tr>\n            <tr>\n                        <th id=\"T_dfd6a486_f8b6_11ea_abf2_00d8618b2698level0_row7\" class=\"row_heading level0 row7\" >7</th>\n                        <td id=\"T_dfd6a486_f8b6_11ea_abf2_00d8618b2698row7_col0\" class=\"data row7 col0\" >Transformed Data </td>\n                        <td id=\"T_dfd6a486_f8b6_11ea_abf2_00d8618b2698row7_col1\" class=\"data row7 col1\" >(505, 4)</td>\n            </tr>\n            <tr>\n                        <th id=\"T_dfd6a486_f8b6_11ea_abf2_00d8618b2698level0_row8\" class=\"row_heading level0 row8\" >8</th>\n                        <td id=\"T_dfd6a486_f8b6_11ea_abf2_00d8618b2698row8_col0\" class=\"data row8 col0\" >Numeric Imputer </td>\n                        <td id=\"T_dfd6a486_f8b6_11ea_abf2_00d8618b2698row8_col1\" class=\"data row8 col1\" >mean</td>\n            </tr>\n            <tr>\n                        <th id=\"T_dfd6a486_f8b6_11ea_abf2_00d8618b2698level0_row9\" class=\"row_heading level0 row9\" >9</th>\n                        <td id=\"T_dfd6a486_f8b6_11ea_abf2_00d8618b2698row9_col0\" class=\"data row9 col0\" >Categorical Imputer </td>\n                        <td id=\"T_dfd6a486_f8b6_11ea_abf2_00d8618b2698row9_col1\" class=\"data row9 col1\" >constant</td>\n            </tr>\n            <tr>\n                        <th id=\"T_dfd6a486_f8b6_11ea_abf2_00d8618b2698level0_row10\" class=\"row_heading level0 row10\" >10</th>\n                        <td id=\"T_dfd6a486_f8b6_11ea_abf2_00d8618b2698row10_col0\" class=\"data row10 col0\" >Normalize </td>\n                        <td id=\"T_dfd6a486_f8b6_11ea_abf2_00d8618b2698row10_col1\" class=\"data row10 col1\" >False</td>\n            </tr>\n            <tr>\n                        <th id=\"T_dfd6a486_f8b6_11ea_abf2_00d8618b2698level0_row11\" class=\"row_heading level0 row11\" >11</th>\n                        <td id=\"T_dfd6a486_f8b6_11ea_abf2_00d8618b2698row11_col0\" class=\"data row11 col0\" >Normalize Method </td>\n                        <td id=\"T_dfd6a486_f8b6_11ea_abf2_00d8618b2698row11_col1\" class=\"data row11 col1\" >None</td>\n            </tr>\n            <tr>\n                        <th id=\"T_dfd6a486_f8b6_11ea_abf2_00d8618b2698level0_row12\" class=\"row_heading level0 row12\" >12</th>\n                        <td id=\"T_dfd6a486_f8b6_11ea_abf2_00d8618b2698row12_col0\" class=\"data row12 col0\" >Transformation </td>\n                        <td id=\"T_dfd6a486_f8b6_11ea_abf2_00d8618b2698row12_col1\" class=\"data row12 col1\" >False</td>\n            </tr>\n            <tr>\n                        <th id=\"T_dfd6a486_f8b6_11ea_abf2_00d8618b2698level0_row13\" class=\"row_heading level0 row13\" >13</th>\n                        <td id=\"T_dfd6a486_f8b6_11ea_abf2_00d8618b2698row13_col0\" class=\"data row13 col0\" >Transformation Method </td>\n                        <td id=\"T_dfd6a486_f8b6_11ea_abf2_00d8618b2698row13_col1\" class=\"data row13 col1\" >None</td>\n            </tr>\n            <tr>\n                        <th id=\"T_dfd6a486_f8b6_11ea_abf2_00d8618b2698level0_row14\" class=\"row_heading level0 row14\" >14</th>\n                        <td id=\"T_dfd6a486_f8b6_11ea_abf2_00d8618b2698row14_col0\" class=\"data row14 col0\" >PCA </td>\n                        <td id=\"T_dfd6a486_f8b6_11ea_abf2_00d8618b2698row14_col1\" class=\"data row14 col1\" >False</td>\n            </tr>\n            <tr>\n                        <th id=\"T_dfd6a486_f8b6_11ea_abf2_00d8618b2698level0_row15\" class=\"row_heading level0 row15\" >15</th>\n                        <td id=\"T_dfd6a486_f8b6_11ea_abf2_00d8618b2698row15_col0\" class=\"data row15 col0\" >PCA Method </td>\n                        <td id=\"T_dfd6a486_f8b6_11ea_abf2_00d8618b2698row15_col1\" class=\"data row15 col1\" >None</td>\n            </tr>\n            <tr>\n                        <th id=\"T_dfd6a486_f8b6_11ea_abf2_00d8618b2698level0_row16\" class=\"row_heading level0 row16\" >16</th>\n                        <td id=\"T_dfd6a486_f8b6_11ea_abf2_00d8618b2698row16_col0\" class=\"data row16 col0\" >PCA components </td>\n                        <td id=\"T_dfd6a486_f8b6_11ea_abf2_00d8618b2698row16_col1\" class=\"data row16 col1\" >None</td>\n            </tr>\n            <tr>\n                        <th id=\"T_dfd6a486_f8b6_11ea_abf2_00d8618b2698level0_row17\" class=\"row_heading level0 row17\" >17</th>\n                        <td id=\"T_dfd6a486_f8b6_11ea_abf2_00d8618b2698row17_col0\" class=\"data row17 col0\" >Ignore Low Variance </td>\n                        <td id=\"T_dfd6a486_f8b6_11ea_abf2_00d8618b2698row17_col1\" class=\"data row17 col1\" >False</td>\n            </tr>\n            <tr>\n                        <th id=\"T_dfd6a486_f8b6_11ea_abf2_00d8618b2698level0_row18\" class=\"row_heading level0 row18\" >18</th>\n                        <td id=\"T_dfd6a486_f8b6_11ea_abf2_00d8618b2698row18_col0\" class=\"data row18 col0\" >Combine Rare Levels </td>\n                        <td id=\"T_dfd6a486_f8b6_11ea_abf2_00d8618b2698row18_col1\" class=\"data row18 col1\" >False</td>\n            </tr>\n            <tr>\n                        <th id=\"T_dfd6a486_f8b6_11ea_abf2_00d8618b2698level0_row19\" class=\"row_heading level0 row19\" >19</th>\n                        <td id=\"T_dfd6a486_f8b6_11ea_abf2_00d8618b2698row19_col0\" class=\"data row19 col0\" >Rare Level Threshold </td>\n                        <td id=\"T_dfd6a486_f8b6_11ea_abf2_00d8618b2698row19_col1\" class=\"data row19 col1\" >None</td>\n            </tr>\n            <tr>\n                        <th id=\"T_dfd6a486_f8b6_11ea_abf2_00d8618b2698level0_row20\" class=\"row_heading level0 row20\" >20</th>\n                        <td id=\"T_dfd6a486_f8b6_11ea_abf2_00d8618b2698row20_col0\" class=\"data row20 col0\" >Numeric Binning </td>\n                        <td id=\"T_dfd6a486_f8b6_11ea_abf2_00d8618b2698row20_col1\" class=\"data row20 col1\" >False</td>\n            </tr>\n            <tr>\n                        <th id=\"T_dfd6a486_f8b6_11ea_abf2_00d8618b2698level0_row21\" class=\"row_heading level0 row21\" >21</th>\n                        <td id=\"T_dfd6a486_f8b6_11ea_abf2_00d8618b2698row21_col0\" class=\"data row21 col0\" >Remove Multicollinearity </td>\n                        <td id=\"T_dfd6a486_f8b6_11ea_abf2_00d8618b2698row21_col1\" class=\"data row21 col1\" >False</td>\n            </tr>\n            <tr>\n                        <th id=\"T_dfd6a486_f8b6_11ea_abf2_00d8618b2698level0_row22\" class=\"row_heading level0 row22\" >22</th>\n                        <td id=\"T_dfd6a486_f8b6_11ea_abf2_00d8618b2698row22_col0\" class=\"data row22 col0\" >Multicollinearity Threshold </td>\n                        <td id=\"T_dfd6a486_f8b6_11ea_abf2_00d8618b2698row22_col1\" class=\"data row22 col1\" >None</td>\n            </tr>\n            <tr>\n                        <th id=\"T_dfd6a486_f8b6_11ea_abf2_00d8618b2698level0_row23\" class=\"row_heading level0 row23\" >23</th>\n                        <td id=\"T_dfd6a486_f8b6_11ea_abf2_00d8618b2698row23_col0\" class=\"data row23 col0\" >Group Features </td>\n                        <td id=\"T_dfd6a486_f8b6_11ea_abf2_00d8618b2698row23_col1\" class=\"data row23 col1\" >False</td>\n            </tr>\n    </tbody></table>"
     },
     "metadata": {}
    }
   ],
   "source": [
    "jewellery = get_data('jewellery')\n",
    "clu = setup(data=jewellery)"
   ]
  },
  {
   "cell_type": "code",
   "execution_count": 8,
   "metadata": {},
   "outputs": [
    {
     "output_type": "display_data",
     "data": {
      "text/plain": "                      Metric\nSilhouette            0.7207\nCalinski-Harabasz  5011.8115\nDavies-Bouldin        0.4114",
      "text/html": "<div>\n<style scoped>\n    .dataframe tbody tr th:only-of-type {\n        vertical-align: middle;\n    }\n\n    .dataframe tbody tr th {\n        vertical-align: top;\n    }\n\n    .dataframe thead th {\n        text-align: right;\n    }\n</style>\n<table border=\"1\" class=\"dataframe\">\n  <thead>\n    <tr style=\"text-align: right;\">\n      <th></th>\n      <th>Metric</th>\n    </tr>\n  </thead>\n  <tbody>\n    <tr>\n      <th>Silhouette</th>\n      <td>0.7207</td>\n    </tr>\n    <tr>\n      <th>Calinski-Harabasz</th>\n      <td>5011.8115</td>\n    </tr>\n    <tr>\n      <th>Davies-Bouldin</th>\n      <td>0.4114</td>\n    </tr>\n  </tbody>\n</table>\n</div>"
     },
     "metadata": {}
    }
   ],
   "source": [
    "kmeans = create_model('kmeans')"
   ]
  },
  {
   "cell_type": "code",
   "execution_count": 41,
   "metadata": {},
   "outputs": [],
   "source": [
    "# Assign label\n",
    "kmeans_results = assign_model(kmeans)"
   ]
  },
  {
   "cell_type": "code",
   "execution_count": null,
   "metadata": {},
   "outputs": [],
   "source": []
  }
 ]
}